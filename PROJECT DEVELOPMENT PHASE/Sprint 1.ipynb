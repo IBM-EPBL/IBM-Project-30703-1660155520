{
 "cells": [
  {
   "cell_type": "code",
   "execution_count": 1,
   "metadata": {},
   "outputs": [
    {
     "data": {
      "text/html": [
       "<div>\n",
       "<style scoped>\n",
       "    .dataframe tbody tr th:only-of-type {\n",
       "        vertical-align: middle;\n",
       "    }\n",
       "\n",
       "    .dataframe tbody tr th {\n",
       "        vertical-align: top;\n",
       "    }\n",
       "\n",
       "    .dataframe thead th {\n",
       "        text-align: right;\n",
       "    }\n",
       "</style>\n",
       "<table border=\"1\" class=\"dataframe\">\n",
       "  <thead>\n",
       "    <tr style=\"text-align: right;\">\n",
       "      <th></th>\n",
       "      <th>STATION CODE</th>\n",
       "      <th>LOCATIONS</th>\n",
       "      <th>STATE</th>\n",
       "      <th>Temp</th>\n",
       "      <th>D.O. (mg/l)</th>\n",
       "      <th>PH</th>\n",
       "      <th>CONDUCTIVITY (µmhos/cm)</th>\n",
       "      <th>B.O.D. (mg/l)</th>\n",
       "      <th>NITRATENAN N+ NITRITENANN (mg/l)</th>\n",
       "      <th>FECAL COLIFORM (MPN/100ml)</th>\n",
       "      <th>TOTAL COLIFORM (MPN/100ml)Mean</th>\n",
       "      <th>year</th>\n",
       "    </tr>\n",
       "  </thead>\n",
       "  <tbody>\n",
       "    <tr>\n",
       "      <th>0</th>\n",
       "      <td>1393</td>\n",
       "      <td>DAMANGANGA AT D/S OF MADHUBAN, DAMAN</td>\n",
       "      <td>DAMAN &amp; DIU</td>\n",
       "      <td>30.6</td>\n",
       "      <td>6.7</td>\n",
       "      <td>7.5</td>\n",
       "      <td>203</td>\n",
       "      <td>NAN</td>\n",
       "      <td>0.1</td>\n",
       "      <td>11</td>\n",
       "      <td>27</td>\n",
       "      <td>2014</td>\n",
       "    </tr>\n",
       "    <tr>\n",
       "      <th>1</th>\n",
       "      <td>1399</td>\n",
       "      <td>ZUARI AT D/S OF PT. WHERE KUMBARJRIA CANAL JOI...</td>\n",
       "      <td>GOA</td>\n",
       "      <td>29.8</td>\n",
       "      <td>5.7</td>\n",
       "      <td>7.2</td>\n",
       "      <td>189</td>\n",
       "      <td>2</td>\n",
       "      <td>0.2</td>\n",
       "      <td>4953</td>\n",
       "      <td>8391</td>\n",
       "      <td>2014</td>\n",
       "    </tr>\n",
       "    <tr>\n",
       "      <th>2</th>\n",
       "      <td>1475</td>\n",
       "      <td>ZUARI AT PANCHAWADI</td>\n",
       "      <td>GOA</td>\n",
       "      <td>29.5</td>\n",
       "      <td>6.3</td>\n",
       "      <td>6.9</td>\n",
       "      <td>179</td>\n",
       "      <td>1.7</td>\n",
       "      <td>0.1</td>\n",
       "      <td>3243</td>\n",
       "      <td>5330</td>\n",
       "      <td>2014</td>\n",
       "    </tr>\n",
       "    <tr>\n",
       "      <th>3</th>\n",
       "      <td>3181</td>\n",
       "      <td>RIVER ZUARI AT BORIM BRIDGE</td>\n",
       "      <td>GOA</td>\n",
       "      <td>29.7</td>\n",
       "      <td>5.8</td>\n",
       "      <td>6.9</td>\n",
       "      <td>64</td>\n",
       "      <td>3.8</td>\n",
       "      <td>0.5</td>\n",
       "      <td>5382</td>\n",
       "      <td>8443</td>\n",
       "      <td>2014</td>\n",
       "    </tr>\n",
       "    <tr>\n",
       "      <th>4</th>\n",
       "      <td>3182</td>\n",
       "      <td>RIVER ZUARI AT MARCAIM JETTY</td>\n",
       "      <td>GOA</td>\n",
       "      <td>29.5</td>\n",
       "      <td>5.8</td>\n",
       "      <td>7.3</td>\n",
       "      <td>83</td>\n",
       "      <td>1.9</td>\n",
       "      <td>0.4</td>\n",
       "      <td>3428</td>\n",
       "      <td>5500</td>\n",
       "      <td>2014</td>\n",
       "    </tr>\n",
       "  </tbody>\n",
       "</table>\n",
       "</div>"
      ],
      "text/plain": [
       "  STATION CODE                                          LOCATIONS  \\\n",
       "0         1393               DAMANGANGA AT D/S OF MADHUBAN, DAMAN   \n",
       "1         1399  ZUARI AT D/S OF PT. WHERE KUMBARJRIA CANAL JOI...   \n",
       "2         1475                                ZUARI AT PANCHAWADI   \n",
       "3         3181                        RIVER ZUARI AT BORIM BRIDGE   \n",
       "4         3182                       RIVER ZUARI AT MARCAIM JETTY   \n",
       "\n",
       "         STATE  Temp D.O. (mg/l)   PH CONDUCTIVITY (µmhos/cm) B.O.D. (mg/l)  \\\n",
       "0  DAMAN & DIU  30.6         6.7  7.5                     203           NAN   \n",
       "1          GOA  29.8         5.7  7.2                     189             2   \n",
       "2          GOA  29.5         6.3  6.9                     179           1.7   \n",
       "3          GOA  29.7         5.8  6.9                      64           3.8   \n",
       "4          GOA  29.5         5.8  7.3                      83           1.9   \n",
       "\n",
       "  NITRATENAN N+ NITRITENANN (mg/l) FECAL COLIFORM (MPN/100ml)  \\\n",
       "0                              0.1                         11   \n",
       "1                              0.2                       4953   \n",
       "2                              0.1                       3243   \n",
       "3                              0.5                       5382   \n",
       "4                              0.4                       3428   \n",
       "\n",
       "  TOTAL COLIFORM (MPN/100ml)Mean  year  \n",
       "0                             27  2014  \n",
       "1                           8391  2014  \n",
       "2                           5330  2014  \n",
       "3                           8443  2014  \n",
       "4                           5500  2014  "
      ]
     },
     "execution_count": 1,
     "metadata": {},
     "output_type": "execute_result"
    }
   ],
   "source": [
    "\n",
    "import os, types\n",
    "import pandas as pd\n",
    "from botocore.client import Config\n",
    "import ibm_boto3\n",
    "\n",
    "def __iter__(self): return 0\n",
    "\n",
    "# @hidden_cell\n",
    "# The following code accesses a file in your IBM Cloud Object Storage. It includes your credentials.\n",
    "# You might want to remove those credentials before you share the notebook.\n",
    "cos_client = ibm_boto3.client(service_name='s3',\n",
    "    ibm_api_key_id='UmuWJ1wfB9i_GshiIUnLdsIVQJevwFvzN4n8kyoEkXHL',\n",
    "    ibm_auth_endpoint=\"https://iam.cloud.ibm.com/oidc/token\",\n",
    "    config=Config(signature_version='oauth'),\n",
    "    endpoint_url='https://s3.private.us.cloud-object-storage.appdomain.cloud')\n",
    "\n",
    "bucket = 'waterqualitypredictor-donotdelete-pr-tanesbvu4upv3x'\n",
    "object_key = 'water_data.csv'\n",
    "\n",
    "body = cos_client.get_object(Bucket=bucket,Key=object_key)['Body']\n",
    "# add missing __iter__ method, so pandas accepts body as file-like object\n",
    "if not hasattr(body, \"__iter__\"): body.__iter__ = types.MethodType( __iter__, body )\n",
    "\n",
    "df = pd.read_csv(body)\n",
    "df.head()\n"
   ]
  },
  {
   "cell_type": "code",
   "execution_count": 2,
   "metadata": {},
   "outputs": [],
   "source": [
    "import numpy as np\n",
    "import pandas as pd\n",
    "import seaborn as sns \n",
    "import matplotlib.pyplot as plt\n",
    "from sklearn.impute import SimpleImputer\n",
    "from sklearn.neighbors import LocalOutlierFactor\n",
    "from scipy.stats import probplot\n",
    "from scipy.stats import zscore"
   ]
  },
  {
   "cell_type": "code",
   "execution_count": 3,
   "metadata": {},
   "outputs": [
    {
     "data": {
      "text/plain": [
       "(1900, 12)"
      ]
     },
     "execution_count": 3,
     "metadata": {},
     "output_type": "execute_result"
    }
   ],
   "source": [
    "df = df.iloc[0:1900, :]\n",
    "df.shape"
   ]
  },
  {
   "cell_type": "code",
   "execution_count": 4,
   "metadata": {},
   "outputs": [
    {
     "data": {
      "text/plain": [
       "STATION CODE                        object\n",
       "LOCATIONS                           object\n",
       "STATE                               object\n",
       "Temp                                object\n",
       "D.O. (mg/l)                         object\n",
       "PH                                  object\n",
       "CONDUCTIVITY (µmhos/cm)             object\n",
       "B.O.D. (mg/l)                       object\n",
       "NITRATENAN N+ NITRITENANN (mg/l)    object\n",
       "FECAL COLIFORM (MPN/100ml)          object\n",
       "TOTAL COLIFORM (MPN/100ml)Mean      object\n",
       "year                                 int64\n",
       "dtype: object"
      ]
     },
     "execution_count": 4,
     "metadata": {},
     "output_type": "execute_result"
    }
   ],
   "source": [
    "# Checking for datatypes of the dataset\n",
    "df.dtypes"
   ]
  },
  {
   "cell_type": "code",
   "execution_count": 5,
   "metadata": {},
   "outputs": [],
   "source": [
    "df = df.rename(columns={\"D.O. (mg/l)\": \"DO\", \"CONDUCTIVITY (µmhos/cm)\": \"Conductivity\", \"B.O.D. (mg/l)\": \"BOD\", \"NITRATENAN N+ NITRITENANN (mg/l)\": \"NI\", \"FECAL COLIFORM (MPN/100ml)\": \"Fec_col\", \"TOTAL COLIFORM (MPN/100ml)Mean\": \"Tot_col\"})"
   ]
  },
  {
   "cell_type": "code",
   "execution_count": 6,
   "metadata": {},
   "outputs": [
    {
     "data": {
      "text/plain": [
       "STATION CODE     object\n",
       "LOCATIONS        object\n",
       "STATE            object\n",
       "Temp            float64\n",
       "DO              float64\n",
       "PH              float64\n",
       "Conductivity    float64\n",
       "BOD             float64\n",
       "NI              float64\n",
       "Fec_col         float64\n",
       "Tot_col         float64\n",
       "year              int64\n",
       "dtype: object"
      ]
     },
     "execution_count": 6,
     "metadata": {},
     "output_type": "execute_result"
    }
   ],
   "source": [
    "# Converting object data type to numeric\n",
    "def convert_to_numeric(df):\n",
    "    num_col = df.shape[1]\n",
    "    # Start from index 3\n",
    "    for index in range(3, num_col):\n",
    "        col_name = df.iloc[:, index].name\n",
    "        df[col_name] = pd.to_numeric(df[col_name], errors=\"coerce\")\n",
    "    return df\n",
    "\n",
    "df = convert_to_numeric(df)\n",
    "df.dtypes"
   ]
  },
  {
   "cell_type": "code",
   "execution_count": 7,
   "metadata": {},
   "outputs": [],
   "source": [
    "def convert_to_nan(df):\n",
    "    n_col = df.shape[1]\n",
    "    for index in range(n_col):\n",
    "        df.iloc[:, index]  = df.iloc[:, index].replace(\"NAN\", np.nan)\n",
    "    return df\n",
    "\n",
    "df = convert_to_nan(df)"
   ]
  },
  {
   "cell_type": "code",
   "execution_count": 8,
   "metadata": {},
   "outputs": [
    {
     "data": {
      "text/plain": [
       "year              0\n",
       "PH                7\n",
       "Conductivity     24\n",
       "DO               30\n",
       "BOD              42\n",
       "Temp             89\n",
       "STATION CODE    120\n",
       "Tot_col         130\n",
       "LOCATIONS       183\n",
       "NI              189\n",
       "Fec_col         280\n",
       "STATE           670\n",
       "dtype: int64"
      ]
     },
     "execution_count": 8,
     "metadata": {},
     "output_type": "execute_result"
    }
   ],
   "source": [
    "# Checking for missing values\n",
    "df.isnull().sum().sort_values()"
   ]
  },
  {
   "cell_type": "code",
   "execution_count": 9,
   "metadata": {},
   "outputs": [],
   "source": [
    "# Replacing NULL values with median of column\n",
    "# Selecting numeric data\n",
    "df_num = df.select_dtypes(exclude=\"object\")\n",
    "df_num_col = df_num.columns\n",
    "imputer = SimpleImputer(strategy=\"median\")\n",
    "\n",
    "df_num = imputer.fit_transform(df_num)\n",
    "df_num = pd.DataFrame(df_num, columns=df_num_col)"
   ]
  },
  {
   "cell_type": "code",
   "execution_count": 10,
   "metadata": {},
   "outputs": [
    {
     "data": {
      "text/plain": [
       "STATION CODE    120\n",
       "LOCATIONS       183\n",
       "STATE           670\n",
       "dtype: int64"
      ]
     },
     "execution_count": 10,
     "metadata": {},
     "output_type": "execute_result"
    }
   ],
   "source": [
    "# Filling Categorical missing values\n",
    "df_cat = df.select_dtypes(include=\"object\")\n",
    "df_cat.isnull().sum()"
   ]
  },
  {
   "cell_type": "code",
   "execution_count": 11,
   "metadata": {},
   "outputs": [
    {
     "data": {
      "text/html": [
       "<div>\n",
       "<style scoped>\n",
       "    .dataframe tbody tr th:only-of-type {\n",
       "        vertical-align: middle;\n",
       "    }\n",
       "\n",
       "    .dataframe tbody tr th {\n",
       "        vertical-align: top;\n",
       "    }\n",
       "\n",
       "    .dataframe thead th {\n",
       "        text-align: right;\n",
       "    }\n",
       "</style>\n",
       "<table border=\"1\" class=\"dataframe\">\n",
       "  <thead>\n",
       "    <tr style=\"text-align: right;\">\n",
       "      <th></th>\n",
       "      <th>STATION CODE</th>\n",
       "      <th>LOCATIONS</th>\n",
       "      <th>STATE</th>\n",
       "    </tr>\n",
       "  </thead>\n",
       "  <tbody>\n",
       "    <tr>\n",
       "      <th>166</th>\n",
       "      <td>1330</td>\n",
       "      <td>TAMBIRAPARANI AT ARUMUGANERI, TAMILNADU</td>\n",
       "      <td>TAMILNADU</td>\n",
       "    </tr>\n",
       "    <tr>\n",
       "      <th>424</th>\n",
       "      <td>1330</td>\n",
       "      <td>TAMBIRAPARANI AT ARUMUGANERI, TAMILNADU</td>\n",
       "      <td>TAMILNADU</td>\n",
       "    </tr>\n",
       "    <tr>\n",
       "      <th>677</th>\n",
       "      <td>1330</td>\n",
       "      <td>TAMBIRAPARANI AT ARUMUGANERI</td>\n",
       "      <td>TAMILNADU</td>\n",
       "    </tr>\n",
       "    <tr>\n",
       "      <th>1168</th>\n",
       "      <td>1330</td>\n",
       "      <td>TAMBIRAPARANI AT ARUMUGANERI</td>\n",
       "      <td>TAMILNADU</td>\n",
       "    </tr>\n",
       "    <tr>\n",
       "      <th>1351</th>\n",
       "      <td>1330</td>\n",
       "      <td>NaN</td>\n",
       "      <td>TAMBIRAPARANI AT ARUMUGANERI, TAMILNADU</td>\n",
       "    </tr>\n",
       "    <tr>\n",
       "      <th>1513</th>\n",
       "      <td>1330</td>\n",
       "      <td>TAMBIRAPARANI AT ARUMUGANERI, TAMILNADU</td>\n",
       "      <td>TAMILNADU</td>\n",
       "    </tr>\n",
       "    <tr>\n",
       "      <th>1626</th>\n",
       "      <td>1330</td>\n",
       "      <td>TAMBIRAPARANI AT ARUMUGANERI, TAMILNADU</td>\n",
       "      <td>TAMILNADU</td>\n",
       "    </tr>\n",
       "    <tr>\n",
       "      <th>1745</th>\n",
       "      <td>1330</td>\n",
       "      <td>TAMBIRAPARANI AT ARUMUGANERI, TAMILNADU</td>\n",
       "      <td>TAMILNADU</td>\n",
       "    </tr>\n",
       "  </tbody>\n",
       "</table>\n",
       "</div>"
      ],
      "text/plain": [
       "     STATION CODE                                LOCATIONS  \\\n",
       "166          1330  TAMBIRAPARANI AT ARUMUGANERI, TAMILNADU   \n",
       "424          1330  TAMBIRAPARANI AT ARUMUGANERI, TAMILNADU   \n",
       "677          1330             TAMBIRAPARANI AT ARUMUGANERI   \n",
       "1168         1330             TAMBIRAPARANI AT ARUMUGANERI   \n",
       "1351         1330                                      NaN   \n",
       "1513         1330  TAMBIRAPARANI AT ARUMUGANERI, TAMILNADU   \n",
       "1626         1330  TAMBIRAPARANI AT ARUMUGANERI, TAMILNADU   \n",
       "1745         1330  TAMBIRAPARANI AT ARUMUGANERI, TAMILNADU   \n",
       "\n",
       "                                        STATE  \n",
       "166                                 TAMILNADU  \n",
       "424                                 TAMILNADU  \n",
       "677                                 TAMILNADU  \n",
       "1168                                TAMILNADU  \n",
       "1351  TAMBIRAPARANI AT ARUMUGANERI, TAMILNADU  \n",
       "1513                                TAMILNADU  \n",
       "1626                                TAMILNADU  \n",
       "1745                                TAMILNADU  "
      ]
     },
     "execution_count": 11,
     "metadata": {},
     "output_type": "execute_result"
    }
   ],
   "source": [
    "# Here we can fill these values by obeserving other attributes\n",
    "# Example - \n",
    "pd.set_option('mode.chained_assignment', None)\n",
    "df_cat_copy = df_cat.copy()\n",
    "\n",
    "df_cat_copy[df_cat_copy[\"STATION CODE\"] == \"1330\"]\n",
    "# Station Code with value 1330 will have Location - TAMBIRAPARANI which belongs in STATE - TAMIL NADU\n",
    "# I can replace all the NAN occurences in STATE with TAMILNADU\n",
    "df_cat_copy[\"STATE\"][df_cat_copy[\"STATION CODE\"] == \"1330\"] = df_cat_copy[\"STATE\"][df_cat_copy[\"STATION CODE\"] == \"1330\"].fillna(\"TAMILNADU\")\n",
    "\n",
    "df_cat_copy[df_cat_copy[\"STATION CODE\"] == \"1330\"]"
   ]
  },
  {
   "cell_type": "code",
   "execution_count": 12,
   "metadata": {},
   "outputs": [
    {
     "data": {
      "text/html": [
       "<div>\n",
       "<style scoped>\n",
       "    .dataframe tbody tr th:only-of-type {\n",
       "        vertical-align: middle;\n",
       "    }\n",
       "\n",
       "    .dataframe tbody tr th {\n",
       "        vertical-align: top;\n",
       "    }\n",
       "\n",
       "    .dataframe thead th {\n",
       "        text-align: right;\n",
       "    }\n",
       "</style>\n",
       "<table border=\"1\" class=\"dataframe\">\n",
       "  <thead>\n",
       "    <tr style=\"text-align: right;\">\n",
       "      <th></th>\n",
       "      <th>STATION CODE</th>\n",
       "      <th>LOCATIONS</th>\n",
       "      <th>STATE</th>\n",
       "    </tr>\n",
       "  </thead>\n",
       "  <tbody>\n",
       "    <tr>\n",
       "      <th>166</th>\n",
       "      <td>1330</td>\n",
       "      <td>TAMBIRAPARANI AT ARUMUGANERI, TAMILNADU</td>\n",
       "      <td>TAMILNADU</td>\n",
       "    </tr>\n",
       "    <tr>\n",
       "      <th>424</th>\n",
       "      <td>1330</td>\n",
       "      <td>TAMBIRAPARANI AT ARUMUGANERI, TAMILNADU</td>\n",
       "      <td>TAMILNADU</td>\n",
       "    </tr>\n",
       "    <tr>\n",
       "      <th>677</th>\n",
       "      <td>1330</td>\n",
       "      <td>TAMBIRAPARANI AT ARUMUGANERI</td>\n",
       "      <td>TAMILNADU</td>\n",
       "    </tr>\n",
       "    <tr>\n",
       "      <th>1168</th>\n",
       "      <td>1330</td>\n",
       "      <td>TAMBIRAPARANI AT ARUMUGANERI</td>\n",
       "      <td>TAMILNADU</td>\n",
       "    </tr>\n",
       "    <tr>\n",
       "      <th>1351</th>\n",
       "      <td>1330</td>\n",
       "      <td>TAMBIRAPARANI AT ARUMUGANERI, TAMILNADU</td>\n",
       "      <td>NaN</td>\n",
       "    </tr>\n",
       "    <tr>\n",
       "      <th>1513</th>\n",
       "      <td>1330</td>\n",
       "      <td>TAMBIRAPARANI AT ARUMUGANERI, TAMILNADU</td>\n",
       "      <td>TAMILNADU</td>\n",
       "    </tr>\n",
       "    <tr>\n",
       "      <th>1626</th>\n",
       "      <td>1330</td>\n",
       "      <td>TAMBIRAPARANI AT ARUMUGANERI, TAMILNADU</td>\n",
       "      <td>TAMILNADU</td>\n",
       "    </tr>\n",
       "    <tr>\n",
       "      <th>1745</th>\n",
       "      <td>1330</td>\n",
       "      <td>TAMBIRAPARANI AT ARUMUGANERI, TAMILNADU</td>\n",
       "      <td>TAMILNADU</td>\n",
       "    </tr>\n",
       "  </tbody>\n",
       "</table>\n",
       "</div>"
      ],
      "text/plain": [
       "     STATION CODE                                LOCATIONS      STATE\n",
       "166          1330  TAMBIRAPARANI AT ARUMUGANERI, TAMILNADU  TAMILNADU\n",
       "424          1330  TAMBIRAPARANI AT ARUMUGANERI, TAMILNADU  TAMILNADU\n",
       "677          1330             TAMBIRAPARANI AT ARUMUGANERI  TAMILNADU\n",
       "1168         1330             TAMBIRAPARANI AT ARUMUGANERI  TAMILNADU\n",
       "1351         1330  TAMBIRAPARANI AT ARUMUGANERI, TAMILNADU        NaN\n",
       "1513         1330  TAMBIRAPARANI AT ARUMUGANERI, TAMILNADU  TAMILNADU\n",
       "1626         1330  TAMBIRAPARANI AT ARUMUGANERI, TAMILNADU  TAMILNADU\n",
       "1745         1330  TAMBIRAPARANI AT ARUMUGANERI, TAMILNADU  TAMILNADU"
      ]
     },
     "execution_count": 12,
     "metadata": {},
     "output_type": "execute_result"
    }
   ],
   "source": [
    "def fill_locations(df_cat):\n",
    "    location_null = df_cat[df_cat[\"LOCATIONS\"].isnull()]\n",
    "    location_null_indices = location_null.index\n",
    "    for index in location_null_indices:\n",
    "        state_value = location_null[\"STATE\"][index]\n",
    "        location_null[\"LOCATIONS\"][index] = state_value\n",
    "        location_null[\"STATE\"][index] = np.nan\n",
    "    df_cat[df_cat[\"LOCATIONS\"].isnull()] = location_null\n",
    "    return\n",
    "\n",
    "fill_locations(df_cat_copy)\n",
    "df_cat_copy[df_cat_copy[\"STATION CODE\"] == \"1330\"]"
   ]
  },
  {
   "cell_type": "code",
   "execution_count": 13,
   "metadata": {},
   "outputs": [
    {
     "data": {
      "text/html": [
       "<div>\n",
       "<style scoped>\n",
       "    .dataframe tbody tr th:only-of-type {\n",
       "        vertical-align: middle;\n",
       "    }\n",
       "\n",
       "    .dataframe tbody tr th {\n",
       "        vertical-align: top;\n",
       "    }\n",
       "\n",
       "    .dataframe thead th {\n",
       "        text-align: right;\n",
       "    }\n",
       "</style>\n",
       "<table border=\"1\" class=\"dataframe\">\n",
       "  <thead>\n",
       "    <tr style=\"text-align: right;\">\n",
       "      <th></th>\n",
       "      <th>STATION CODE</th>\n",
       "      <th>LOCATIONS</th>\n",
       "      <th>STATE</th>\n",
       "    </tr>\n",
       "  </thead>\n",
       "  <tbody>\n",
       "    <tr>\n",
       "      <th>166</th>\n",
       "      <td>1330</td>\n",
       "      <td>TAMBIRAPARANI AT ARUMUGANERI, TAMILNADU</td>\n",
       "      <td>TAMILNADU</td>\n",
       "    </tr>\n",
       "    <tr>\n",
       "      <th>424</th>\n",
       "      <td>1330</td>\n",
       "      <td>TAMBIRAPARANI AT ARUMUGANERI, TAMILNADU</td>\n",
       "      <td>TAMILNADU</td>\n",
       "    </tr>\n",
       "    <tr>\n",
       "      <th>1351</th>\n",
       "      <td>1330</td>\n",
       "      <td>TAMBIRAPARANI AT ARUMUGANERI, TAMILNADU</td>\n",
       "      <td>NaN</td>\n",
       "    </tr>\n",
       "    <tr>\n",
       "      <th>1513</th>\n",
       "      <td>1330</td>\n",
       "      <td>TAMBIRAPARANI AT ARUMUGANERI, TAMILNADU</td>\n",
       "      <td>TAMILNADU</td>\n",
       "    </tr>\n",
       "    <tr>\n",
       "      <th>1626</th>\n",
       "      <td>1330</td>\n",
       "      <td>TAMBIRAPARANI AT ARUMUGANERI, TAMILNADU</td>\n",
       "      <td>TAMILNADU</td>\n",
       "    </tr>\n",
       "    <tr>\n",
       "      <th>1745</th>\n",
       "      <td>1330</td>\n",
       "      <td>TAMBIRAPARANI AT ARUMUGANERI, TAMILNADU</td>\n",
       "      <td>TAMILNADU</td>\n",
       "    </tr>\n",
       "    <tr>\n",
       "      <th>1896</th>\n",
       "      <td>NaN</td>\n",
       "      <td>TAMBIRAPARANI AT ARUMUGANERI, TAMILNADU</td>\n",
       "      <td>NaN</td>\n",
       "    </tr>\n",
       "  </tbody>\n",
       "</table>\n",
       "</div>"
      ],
      "text/plain": [
       "     STATION CODE                                LOCATIONS      STATE\n",
       "166          1330  TAMBIRAPARANI AT ARUMUGANERI, TAMILNADU  TAMILNADU\n",
       "424          1330  TAMBIRAPARANI AT ARUMUGANERI, TAMILNADU  TAMILNADU\n",
       "1351         1330  TAMBIRAPARANI AT ARUMUGANERI, TAMILNADU        NaN\n",
       "1513         1330  TAMBIRAPARANI AT ARUMUGANERI, TAMILNADU  TAMILNADU\n",
       "1626         1330  TAMBIRAPARANI AT ARUMUGANERI, TAMILNADU  TAMILNADU\n",
       "1745         1330  TAMBIRAPARANI AT ARUMUGANERI, TAMILNADU  TAMILNADU\n",
       "1896          NaN  TAMBIRAPARANI AT ARUMUGANERI, TAMILNADU        NaN"
      ]
     },
     "execution_count": 13,
     "metadata": {},
     "output_type": "execute_result"
    }
   ],
   "source": [
    "df_cat_copy[df_cat_copy[\"LOCATIONS\"] == \"TAMBIRAPARANI AT ARUMUGANERI, TAMILNADU\"]"
   ]
  },
  {
   "cell_type": "code",
   "execution_count": 14,
   "metadata": {},
   "outputs": [
    {
     "data": {
      "text/html": [
       "<div>\n",
       "<style scoped>\n",
       "    .dataframe tbody tr th:only-of-type {\n",
       "        vertical-align: middle;\n",
       "    }\n",
       "\n",
       "    .dataframe tbody tr th {\n",
       "        vertical-align: top;\n",
       "    }\n",
       "\n",
       "    .dataframe thead th {\n",
       "        text-align: right;\n",
       "    }\n",
       "</style>\n",
       "<table border=\"1\" class=\"dataframe\">\n",
       "  <thead>\n",
       "    <tr style=\"text-align: right;\">\n",
       "      <th></th>\n",
       "      <th>STATION CODE</th>\n",
       "      <th>LOCATIONS</th>\n",
       "      <th>STATE</th>\n",
       "    </tr>\n",
       "  </thead>\n",
       "  <tbody>\n",
       "    <tr>\n",
       "      <th>166</th>\n",
       "      <td>1330</td>\n",
       "      <td>TAMBIRAPARANI AT ARUMUGANERI, TAMILNADU</td>\n",
       "      <td>TAMILNADU</td>\n",
       "    </tr>\n",
       "    <tr>\n",
       "      <th>424</th>\n",
       "      <td>1330</td>\n",
       "      <td>TAMBIRAPARANI AT ARUMUGANERI, TAMILNADU</td>\n",
       "      <td>TAMILNADU</td>\n",
       "    </tr>\n",
       "    <tr>\n",
       "      <th>1351</th>\n",
       "      <td>1330</td>\n",
       "      <td>TAMBIRAPARANI AT ARUMUGANERI, TAMILNADU</td>\n",
       "      <td>NaN</td>\n",
       "    </tr>\n",
       "    <tr>\n",
       "      <th>1513</th>\n",
       "      <td>1330</td>\n",
       "      <td>TAMBIRAPARANI AT ARUMUGANERI, TAMILNADU</td>\n",
       "      <td>TAMILNADU</td>\n",
       "    </tr>\n",
       "    <tr>\n",
       "      <th>1626</th>\n",
       "      <td>1330</td>\n",
       "      <td>TAMBIRAPARANI AT ARUMUGANERI, TAMILNADU</td>\n",
       "      <td>TAMILNADU</td>\n",
       "    </tr>\n",
       "    <tr>\n",
       "      <th>1745</th>\n",
       "      <td>1330</td>\n",
       "      <td>TAMBIRAPARANI AT ARUMUGANERI, TAMILNADU</td>\n",
       "      <td>TAMILNADU</td>\n",
       "    </tr>\n",
       "    <tr>\n",
       "      <th>1896</th>\n",
       "      <td>1330</td>\n",
       "      <td>TAMBIRAPARANI AT ARUMUGANERI, TAMILNADU</td>\n",
       "      <td>NaN</td>\n",
       "    </tr>\n",
       "  </tbody>\n",
       "</table>\n",
       "</div>"
      ],
      "text/plain": [
       "     STATION CODE                                LOCATIONS      STATE\n",
       "166          1330  TAMBIRAPARANI AT ARUMUGANERI, TAMILNADU  TAMILNADU\n",
       "424          1330  TAMBIRAPARANI AT ARUMUGANERI, TAMILNADU  TAMILNADU\n",
       "1351         1330  TAMBIRAPARANI AT ARUMUGANERI, TAMILNADU        NaN\n",
       "1513         1330  TAMBIRAPARANI AT ARUMUGANERI, TAMILNADU  TAMILNADU\n",
       "1626         1330  TAMBIRAPARANI AT ARUMUGANERI, TAMILNADU  TAMILNADU\n",
       "1745         1330  TAMBIRAPARANI AT ARUMUGANERI, TAMILNADU  TAMILNADU\n",
       "1896         1330  TAMBIRAPARANI AT ARUMUGANERI, TAMILNADU        NaN"
      ]
     },
     "execution_count": 14,
     "metadata": {},
     "output_type": "execute_result"
    }
   ],
   "source": [
    "def fill_code(df_cat):\n",
    "    station_null = df_cat[df_cat[\"STATION CODE\"].isnull()]\n",
    "    station_null_indices = station_null.index\n",
    "    for index in station_null_indices:\n",
    "        stat_code = np.nan\n",
    "        location_index = station_null[\"LOCATIONS\"][index]\n",
    "        code_at_location = df_cat[\"STATION CODE\"][df_cat[\"LOCATIONS\"] == location_index]\n",
    "        for index_code in code_at_location.index:\n",
    "            if (code_at_location[index_code] != np.nan):\n",
    "                stat_code = code_at_location[index_code]\n",
    "                break\n",
    "        station_null[\"STATION CODE\"][index] = stat_code\n",
    "    df_cat[df_cat[\"STATION CODE\"].isnull()] = station_null\n",
    "    return\n",
    "\n",
    "fill_code(df_cat_copy)\n",
    "df_cat_copy[df_cat_copy[\"LOCATIONS\"] == \"TAMBIRAPARANI AT ARUMUGANERI, TAMILNADU\"]"
   ]
  },
  {
   "cell_type": "code",
   "execution_count": 15,
   "metadata": {},
   "outputs": [
    {
     "data": {
      "text/html": [
       "<div>\n",
       "<style scoped>\n",
       "    .dataframe tbody tr th:only-of-type {\n",
       "        vertical-align: middle;\n",
       "    }\n",
       "\n",
       "    .dataframe tbody tr th {\n",
       "        vertical-align: top;\n",
       "    }\n",
       "\n",
       "    .dataframe thead th {\n",
       "        text-align: right;\n",
       "    }\n",
       "</style>\n",
       "<table border=\"1\" class=\"dataframe\">\n",
       "  <thead>\n",
       "    <tr style=\"text-align: right;\">\n",
       "      <th></th>\n",
       "      <th>STATION CODE</th>\n",
       "      <th>LOCATIONS</th>\n",
       "      <th>STATE</th>\n",
       "    </tr>\n",
       "  </thead>\n",
       "  <tbody>\n",
       "    <tr>\n",
       "      <th>166</th>\n",
       "      <td>1330</td>\n",
       "      <td>TAMBIRAPARANI AT ARUMUGANERI, TAMILNADU</td>\n",
       "      <td>TAMILNADU</td>\n",
       "    </tr>\n",
       "    <tr>\n",
       "      <th>424</th>\n",
       "      <td>1330</td>\n",
       "      <td>TAMBIRAPARANI AT ARUMUGANERI, TAMILNADU</td>\n",
       "      <td>TAMILNADU</td>\n",
       "    </tr>\n",
       "    <tr>\n",
       "      <th>677</th>\n",
       "      <td>1330</td>\n",
       "      <td>TAMBIRAPARANI AT ARUMUGANERI</td>\n",
       "      <td>TAMILNADU</td>\n",
       "    </tr>\n",
       "    <tr>\n",
       "      <th>1168</th>\n",
       "      <td>1330</td>\n",
       "      <td>TAMBIRAPARANI AT ARUMUGANERI</td>\n",
       "      <td>TAMILNADU</td>\n",
       "    </tr>\n",
       "    <tr>\n",
       "      <th>1351</th>\n",
       "      <td>1330</td>\n",
       "      <td>TAMBIRAPARANI AT ARUMUGANERI, TAMILNADU</td>\n",
       "      <td>TAMILNADU</td>\n",
       "    </tr>\n",
       "    <tr>\n",
       "      <th>1513</th>\n",
       "      <td>1330</td>\n",
       "      <td>TAMBIRAPARANI AT ARUMUGANERI, TAMILNADU</td>\n",
       "      <td>TAMILNADU</td>\n",
       "    </tr>\n",
       "    <tr>\n",
       "      <th>1626</th>\n",
       "      <td>1330</td>\n",
       "      <td>TAMBIRAPARANI AT ARUMUGANERI, TAMILNADU</td>\n",
       "      <td>TAMILNADU</td>\n",
       "    </tr>\n",
       "    <tr>\n",
       "      <th>1745</th>\n",
       "      <td>1330</td>\n",
       "      <td>TAMBIRAPARANI AT ARUMUGANERI, TAMILNADU</td>\n",
       "      <td>TAMILNADU</td>\n",
       "    </tr>\n",
       "    <tr>\n",
       "      <th>1896</th>\n",
       "      <td>1330</td>\n",
       "      <td>TAMBIRAPARANI AT ARUMUGANERI, TAMILNADU</td>\n",
       "      <td>TAMILNADU</td>\n",
       "    </tr>\n",
       "  </tbody>\n",
       "</table>\n",
       "</div>"
      ],
      "text/plain": [
       "     STATION CODE                                LOCATIONS      STATE\n",
       "166          1330  TAMBIRAPARANI AT ARUMUGANERI, TAMILNADU  TAMILNADU\n",
       "424          1330  TAMBIRAPARANI AT ARUMUGANERI, TAMILNADU  TAMILNADU\n",
       "677          1330             TAMBIRAPARANI AT ARUMUGANERI  TAMILNADU\n",
       "1168         1330             TAMBIRAPARANI AT ARUMUGANERI  TAMILNADU\n",
       "1351         1330  TAMBIRAPARANI AT ARUMUGANERI, TAMILNADU  TAMILNADU\n",
       "1513         1330  TAMBIRAPARANI AT ARUMUGANERI, TAMILNADU  TAMILNADU\n",
       "1626         1330  TAMBIRAPARANI AT ARUMUGANERI, TAMILNADU  TAMILNADU\n",
       "1745         1330  TAMBIRAPARANI AT ARUMUGANERI, TAMILNADU  TAMILNADU\n",
       "1896         1330  TAMBIRAPARANI AT ARUMUGANERI, TAMILNADU  TAMILNADU"
      ]
     },
     "execution_count": 15,
     "metadata": {},
     "output_type": "execute_result"
    }
   ],
   "source": [
    "# Filling all state NAN values which have corresponding station code value\n",
    "def fill_state(df_cat):\n",
    "    station_code = df_cat[\"STATION CODE\"].unique()\n",
    "    for index in range(station_code.shape[0]):\n",
    "        if (station_code[index] != np.nan):\n",
    "            df_state = df_cat[\"STATE\"][df_cat[\"STATION CODE\"] == station_code[index]] \n",
    "            state_values = df_cat[\"STATE\"][df_cat[\"STATION CODE\"] == station_code[index]]\n",
    "            state = np.nan\n",
    "            for index_state in range(state_values.shape[0]):\n",
    "                if (state_values.iloc[index_state] != np.nan):\n",
    "                    state = state_values.iloc[index_state]\n",
    "                    break\n",
    "            df_state_fill = df_state.fillna(state) \n",
    "            df_cat[\"STATE\"][df_cat[\"STATION CODE\"] == station_code[index]] = df_state_fill\n",
    "    return\n",
    "fill_state(df_cat_copy)\n",
    "df_cat_copy[df_cat_copy[\"STATION CODE\"] == \"1330\"]"
   ]
  },
  {
   "cell_type": "code",
   "execution_count": 16,
   "metadata": {},
   "outputs": [
    {
     "data": {
      "text/plain": [
       "STATION CODE     4\n",
       "LOCATIONS        2\n",
       "STATE           12\n",
       "dtype: int64"
      ]
     },
     "execution_count": 16,
     "metadata": {},
     "output_type": "execute_result"
    }
   ],
   "source": [
    "df_cat_copy.isnull().sum()"
   ]
  },
  {
   "cell_type": "code",
   "execution_count": 17,
   "metadata": {},
   "outputs": [
    {
     "data": {
      "text/html": [
       "<div>\n",
       "<style scoped>\n",
       "    .dataframe tbody tr th:only-of-type {\n",
       "        vertical-align: middle;\n",
       "    }\n",
       "\n",
       "    .dataframe tbody tr th {\n",
       "        vertical-align: top;\n",
       "    }\n",
       "\n",
       "    .dataframe thead th {\n",
       "        text-align: right;\n",
       "    }\n",
       "</style>\n",
       "<table border=\"1\" class=\"dataframe\">\n",
       "  <thead>\n",
       "    <tr style=\"text-align: right;\">\n",
       "      <th></th>\n",
       "      <th>STATION CODE</th>\n",
       "      <th>LOCATIONS</th>\n",
       "      <th>STATE</th>\n",
       "    </tr>\n",
       "  </thead>\n",
       "  <tbody>\n",
       "    <tr>\n",
       "      <th>260</th>\n",
       "      <td>NaN</td>\n",
       "      <td>NaN</td>\n",
       "      <td>NaN</td>\n",
       "    </tr>\n",
       "    <tr>\n",
       "      <th>431</th>\n",
       "      <td>NaN</td>\n",
       "      <td>NaN</td>\n",
       "      <td>NaN</td>\n",
       "    </tr>\n",
       "    <tr>\n",
       "      <th>1106</th>\n",
       "      <td>1207</td>\n",
       "      <td>KABBANI AT MUTHANKARA</td>\n",
       "      <td>NaN</td>\n",
       "    </tr>\n",
       "    <tr>\n",
       "      <th>1107</th>\n",
       "      <td>1208</td>\n",
       "      <td>BHAVANI AT ELACHIVAZHY</td>\n",
       "      <td>NaN</td>\n",
       "    </tr>\n",
       "    <tr>\n",
       "      <th>1650</th>\n",
       "      <td>2047</td>\n",
       "      <td>NNANCHOE (ATTAWA CHOE), CHANDIGARH</td>\n",
       "      <td>NaN</td>\n",
       "    </tr>\n",
       "    <tr>\n",
       "      <th>1651</th>\n",
       "      <td>2048</td>\n",
       "      <td>PATIALA KI RAO, CHANDIGARH</td>\n",
       "      <td>NaN</td>\n",
       "    </tr>\n",
       "    <tr>\n",
       "      <th>1652</th>\n",
       "      <td>2049</td>\n",
       "      <td>SUKHNA CHOE, CHANDIGARH</td>\n",
       "      <td>NaN</td>\n",
       "    </tr>\n",
       "    <tr>\n",
       "      <th>1770</th>\n",
       "      <td>2047</td>\n",
       "      <td>NNANCHOE (ATTAWA CHOE)</td>\n",
       "      <td>NaN</td>\n",
       "    </tr>\n",
       "    <tr>\n",
       "      <th>1771</th>\n",
       "      <td>2048</td>\n",
       "      <td>PATIALA KI RAO</td>\n",
       "      <td>NaN</td>\n",
       "    </tr>\n",
       "    <tr>\n",
       "      <th>1772</th>\n",
       "      <td>2049</td>\n",
       "      <td>SUKHNA CHOE</td>\n",
       "      <td>NaN</td>\n",
       "    </tr>\n",
       "    <tr>\n",
       "      <th>1784</th>\n",
       "      <td>NaN</td>\n",
       "      <td>DAMANGANGA  AFTER CONFL. OF PIPARIA DRAIN, DAMAN</td>\n",
       "      <td>NaN</td>\n",
       "    </tr>\n",
       "    <tr>\n",
       "      <th>1785</th>\n",
       "      <td>NaN</td>\n",
       "      <td>DAMANGANGA AT CIRCUIT HOUSE, SILVASA, DADRA AN...</td>\n",
       "      <td>NaN</td>\n",
       "    </tr>\n",
       "  </tbody>\n",
       "</table>\n",
       "</div>"
      ],
      "text/plain": [
       "     STATION CODE                                          LOCATIONS STATE\n",
       "260           NaN                                                NaN   NaN\n",
       "431           NaN                                                NaN   NaN\n",
       "1106         1207                              KABBANI AT MUTHANKARA   NaN\n",
       "1107         1208                             BHAVANI AT ELACHIVAZHY   NaN\n",
       "1650         2047                 NNANCHOE (ATTAWA CHOE), CHANDIGARH   NaN\n",
       "1651         2048                         PATIALA KI RAO, CHANDIGARH   NaN\n",
       "1652         2049                            SUKHNA CHOE, CHANDIGARH   NaN\n",
       "1770         2047                             NNANCHOE (ATTAWA CHOE)   NaN\n",
       "1771         2048                                     PATIALA KI RAO   NaN\n",
       "1772         2049                                        SUKHNA CHOE   NaN\n",
       "1784          NaN   DAMANGANGA  AFTER CONFL. OF PIPARIA DRAIN, DAMAN   NaN\n",
       "1785          NaN  DAMANGANGA AT CIRCUIT HOUSE, SILVASA, DADRA AN...   NaN"
      ]
     },
     "execution_count": 17,
     "metadata": {},
     "output_type": "execute_result"
    }
   ],
   "source": [
    "df_cat_copy[df_cat_copy[\"STATE\"].isnull()]"
   ]
  },
  {
   "cell_type": "code",
   "execution_count": 18,
   "metadata": {},
   "outputs": [],
   "source": [
    "# The first location KABBANI AT MUTHANKARA is in STATE Kerela\n",
    "df_cat_copy[\"STATE\"][1106] = \"KERALA\"\n",
    "df_cat_copy[\"STATE\"][1107] = \"KERALA\"\n",
    "df_cat_copy[\"STATE\"][1650] = \"CHANDIGARH\"\n",
    "df_cat_copy[\"STATE\"][1651] = \"CHANDIGARH\"\n",
    "df_cat_copy[\"STATE\"][1652] = \"CHANDIGARH\"\n",
    "df_cat_copy[\"STATE\"][1770] = \"CHANDIGARH\"\n",
    "df_cat_copy[\"STATE\"][1771] = \"CHANDIGARH\"\n",
    "df_cat_copy[\"STATE\"][1772] = \"CHANDIGARH\"\n",
    "df_cat_copy[\"STATE\"][1784] = \"DAMAN & DIU\"\n",
    "df_cat_copy[\"STATE\"][1785] = \"DAMAN & DIU\"\n",
    "df_cat_copy[\"STATION CODE\"][1784] = \"0000\" # I am setting this according to myself\n",
    "df_cat_copy[\"STATION CODE\"][1785] = \"0000\""
   ]
  },
  {
   "cell_type": "code",
   "execution_count": 19,
   "metadata": {},
   "outputs": [
    {
     "data": {
      "text/plain": [
       "STATION CODE    2\n",
       "LOCATIONS       2\n",
       "STATE           2\n",
       "dtype: int64"
      ]
     },
     "execution_count": 19,
     "metadata": {},
     "output_type": "execute_result"
    }
   ],
   "source": [
    "df_cat = df_cat_copy\n",
    "df_cat.isnull().sum()"
   ]
  },
  {
   "cell_type": "code",
   "execution_count": 20,
   "metadata": {},
   "outputs": [
    {
     "data": {
      "text/plain": [
       "Temp            0\n",
       "DO              0\n",
       "PH              0\n",
       "Conductivity    0\n",
       "BOD             0\n",
       "NI              0\n",
       "Fec_col         0\n",
       "Tot_col         0\n",
       "year            0\n",
       "dtype: int64"
      ]
     },
     "execution_count": 20,
     "metadata": {},
     "output_type": "execute_result"
    }
   ],
   "source": [
    "df_num.isnull().sum()"
   ]
  },
  {
   "cell_type": "code",
   "execution_count": 21,
   "metadata": {},
   "outputs": [
    {
     "data": {
      "text/plain": [
       "STATION CODE    2\n",
       "LOCATIONS       2\n",
       "STATE           2\n",
       "Temp            0\n",
       "DO              0\n",
       "PH              0\n",
       "Conductivity    0\n",
       "BOD             0\n",
       "NI              0\n",
       "Fec_col         0\n",
       "Tot_col         0\n",
       "year            0\n",
       "dtype: int64"
      ]
     },
     "execution_count": 21,
     "metadata": {},
     "output_type": "execute_result"
    }
   ],
   "source": [
    "df_final = pd.concat([df_cat, df_num], axis=1)\n",
    "df_final.isnull().sum()"
   ]
  },
  {
   "cell_type": "code",
   "execution_count": 22,
   "metadata": {},
   "outputs": [
    {
     "data": {
      "text/html": [
       "<div>\n",
       "<style scoped>\n",
       "    .dataframe tbody tr th:only-of-type {\n",
       "        vertical-align: middle;\n",
       "    }\n",
       "\n",
       "    .dataframe tbody tr th {\n",
       "        vertical-align: top;\n",
       "    }\n",
       "\n",
       "    .dataframe thead th {\n",
       "        text-align: right;\n",
       "    }\n",
       "</style>\n",
       "<table border=\"1\" class=\"dataframe\">\n",
       "  <thead>\n",
       "    <tr style=\"text-align: right;\">\n",
       "      <th></th>\n",
       "      <th>STATION CODE</th>\n",
       "      <th>LOCATIONS</th>\n",
       "      <th>STATE</th>\n",
       "      <th>Temp</th>\n",
       "      <th>DO</th>\n",
       "      <th>PH</th>\n",
       "      <th>Conductivity</th>\n",
       "      <th>BOD</th>\n",
       "      <th>NI</th>\n",
       "      <th>Fec_col</th>\n",
       "      <th>Tot_col</th>\n",
       "      <th>year</th>\n",
       "    </tr>\n",
       "  </thead>\n",
       "  <tbody>\n",
       "    <tr>\n",
       "      <th>260</th>\n",
       "      <td>NaN</td>\n",
       "      <td>NaN</td>\n",
       "      <td>NaN</td>\n",
       "      <td>27.0</td>\n",
       "      <td>6.7</td>\n",
       "      <td>7.3</td>\n",
       "      <td>198.0</td>\n",
       "      <td>1.8965</td>\n",
       "      <td>0.52</td>\n",
       "      <td>233.0</td>\n",
       "      <td>465.0</td>\n",
       "      <td>2013.0</td>\n",
       "    </tr>\n",
       "    <tr>\n",
       "      <th>431</th>\n",
       "      <td>NaN</td>\n",
       "      <td>NaN</td>\n",
       "      <td>NaN</td>\n",
       "      <td>27.0</td>\n",
       "      <td>6.7</td>\n",
       "      <td>7.3</td>\n",
       "      <td>198.0</td>\n",
       "      <td>1.8965</td>\n",
       "      <td>0.52</td>\n",
       "      <td>233.0</td>\n",
       "      <td>465.0</td>\n",
       "      <td>2013.0</td>\n",
       "    </tr>\n",
       "  </tbody>\n",
       "</table>\n",
       "</div>"
      ],
      "text/plain": [
       "    STATION CODE LOCATIONS STATE  Temp   DO   PH  Conductivity     BOD    NI  \\\n",
       "260          NaN       NaN   NaN  27.0  6.7  7.3         198.0  1.8965  0.52   \n",
       "431          NaN       NaN   NaN  27.0  6.7  7.3         198.0  1.8965  0.52   \n",
       "\n",
       "     Fec_col  Tot_col    year  \n",
       "260    233.0    465.0  2013.0  \n",
       "431    233.0    465.0  2013.0  "
      ]
     },
     "execution_count": 22,
     "metadata": {},
     "output_type": "execute_result"
    }
   ],
   "source": [
    "# These are the samples which don't contain any attribute\n",
    "# The filled attributes are median of corresponding columns\n",
    "# So it is best to remove them\n",
    "df_null = df_final[(df_final[\"STATION CODE\"].isnull()) & (df_final[\"LOCATIONS\"].isnull()) & (df_final[\"STATE\"].isnull())]\n",
    "df_null_indices = df_null.index\n",
    "df_final.drop(df_null_indices, axis=0, inplace=True)\n",
    "df_null"
   ]
  },
  {
   "cell_type": "code",
   "execution_count": 23,
   "metadata": {},
   "outputs": [
    {
     "data": {
      "text/plain": [
       "STATION CODE    0\n",
       "LOCATIONS       0\n",
       "STATE           0\n",
       "Temp            0\n",
       "DO              0\n",
       "PH              0\n",
       "Conductivity    0\n",
       "BOD             0\n",
       "NI              0\n",
       "Fec_col         0\n",
       "Tot_col         0\n",
       "year            0\n",
       "dtype: int64"
      ]
     },
     "execution_count": 23,
     "metadata": {},
     "output_type": "execute_result"
    }
   ],
   "source": [
    "df_final.isnull().sum()"
   ]
  },
  {
   "cell_type": "code",
   "execution_count": 24,
   "metadata": {},
   "outputs": [
    {
     "data": {
      "text/plain": [
       "(1898, 12)"
      ]
     },
     "execution_count": 24,
     "metadata": {},
     "output_type": "execute_result"
    }
   ],
   "source": [
    "df_final.shape"
   ]
  },
  {
   "cell_type": "code",
   "execution_count": 26,
   "metadata": {},
   "outputs": [
    {
     "data": {
      "image/png": "[encoded data removed]",
      "text/plain": [
       "<Figure size 504x360 with 1 Axes>"
      ]
     },
     "metadata": {
      "needs_background": "light"
     },
     "output_type": "display_data"
    },
    {
     "data": {
      "image/png": "[encoded data removed]",
      "text/plain": [
       "<Figure size 504x360 with 1 Axes>"
      ]
     },
     "metadata": {
      "needs_background": "light"
     },
     "output_type": "display_data"
    },
    {
     "data": {
      "image/png": "[encoded data removed]",
      "text/plain": [
       "<Figure size 504x360 with 1 Axes>"
      ]
     },
     "metadata": {
      "needs_background": "light"
     },
     "output_type": "display_data"
    },
    {
     "data": {
      "image/png": "[encoded data removed]",
      "text/plain": [
       "<Figure size 504x360 with 1 Axes>"
      ]
     },
     "metadata": {
      "needs_background": "light"
     },
     "output_type": "display_data"
    },
    {
     "data": {
      "image/png": "[encoded data removed]",
      "text/plain": [
       "<Figure size 504x360 with 1 Axes>"
      ]
     },
     "metadata": {
      "needs_background": "light"
     },
     "output_type": "display_data"
    },
    {
     "data": {
      "image/png": "[encoded data removed]",
      "text/plain": [
       "<Figure size 504x360 with 1 Axes>"
      ]
     },
     "metadata": {
      "needs_background": "light"
     },
     "output_type": "display_data"
    },
    {
     "data": {
      "image/png": "[encoded data removed]",
      "text/plain": [
       "<Figure size 504x360 with 1 Axes>"
      ]
     },
     "metadata": {
      "needs_background": "light"
     },
     "output_type": "display_data"
    },
    {
     "data": {
      "image/png": "[encoded data removed]",
      "text/plain": [
       "<Figure size 504x360 with 1 Axes>"
      ]
     },
     "metadata": {
      "needs_background": "light"
     },
     "output_type": "display_data"
    },
    {
     "data": {
      "image/png": "[encoded data removed]",
      "text/plain": [
       "<Figure size 504x360 with 1 Axes>"
      ]
     },
     "metadata": {
      "needs_background": "light"
     },
     "output_type": "display_data"
    }
   ],
   "source": [
    "# PLotting PDFs of all the numeric attributes in the dataset\n",
    "\n",
    "df_num_final = df_final.select_dtypes(exclude=\"object\")\n",
    "\n",
    "def plot_kde(df):\n",
    "    n_col = df.shape[1]\n",
    "    for index in range(n_col):\n",
    "        col_index = df.iloc[:, index]\n",
    "        fig, ax = plt.subplots(1,1, figsize=(7, 5))\n",
    "        sns.kdeplot(data=df, x=col_index.name)\n",
    "        \n",
    "plot_kde(df_num_final)"
   ]
  },
  {
   "cell_type": "code",
   "execution_count": 27,
   "metadata": {},
   "outputs": [
    {
     "name": "stdout",
     "output_type": "stream",
     "text": [
      "Number of outliers using Z-Score method- 125\n"
     ]
    },
    {
     "data": {
      "text/html": [
       "<div>\n",
       "<style scoped>\n",
       "    .dataframe tbody tr th:only-of-type {\n",
       "        vertical-align: middle;\n",
       "    }\n",
       "\n",
       "    .dataframe tbody tr th {\n",
       "        vertical-align: top;\n",
       "    }\n",
       "\n",
       "    .dataframe thead th {\n",
       "        text-align: right;\n",
       "    }\n",
       "</style>\n",
       "<table border=\"1\" class=\"dataframe\">\n",
       "  <thead>\n",
       "    <tr style=\"text-align: right;\">\n",
       "      <th></th>\n",
       "      <th>STATION CODE</th>\n",
       "      <th>LOCATIONS</th>\n",
       "      <th>STATE</th>\n",
       "      <th>Temp</th>\n",
       "      <th>DO</th>\n",
       "      <th>PH</th>\n",
       "      <th>Conductivity</th>\n",
       "      <th>BOD</th>\n",
       "      <th>NI</th>\n",
       "      <th>Fec_col</th>\n",
       "      <th>Tot_col</th>\n",
       "      <th>year</th>\n",
       "    </tr>\n",
       "  </thead>\n",
       "  <tbody>\n",
       "    <tr>\n",
       "      <th>741</th>\n",
       "      <td>2880</td>\n",
       "      <td>NAMBUL RIVER AT BISHNUPUR</td>\n",
       "      <td>MANIPUR</td>\n",
       "      <td>28.0</td>\n",
       "      <td>8.2</td>\n",
       "      <td>7.6</td>\n",
       "      <td>112.0</td>\n",
       "      <td>2.1</td>\n",
       "      <td>0.52</td>\n",
       "      <td>233.0</td>\n",
       "      <td>31.0</td>\n",
       "      <td>2012.0</td>\n",
       "    </tr>\n",
       "    <tr>\n",
       "      <th>745</th>\n",
       "      <td>2856</td>\n",
       "      <td>THOUBAL RIVER AT YAIRIPOK, THOUBAL</td>\n",
       "      <td>MANIPUR</td>\n",
       "      <td>30.0</td>\n",
       "      <td>9.3</td>\n",
       "      <td>7.6</td>\n",
       "      <td>193.0</td>\n",
       "      <td>2.3</td>\n",
       "      <td>0.52</td>\n",
       "      <td>233.0</td>\n",
       "      <td>41.0</td>\n",
       "      <td>2012.0</td>\n",
       "    </tr>\n",
       "    <tr>\n",
       "      <th>37</th>\n",
       "      <td>2671</td>\n",
       "      <td>KUNDALIKA RIVER NEAR SALAV BRIDGE (SALINA ZONE...</td>\n",
       "      <td>MAHARASHTRA</td>\n",
       "      <td>25.3</td>\n",
       "      <td>5.3</td>\n",
       "      <td>7.7</td>\n",
       "      <td>24062.0</td>\n",
       "      <td>9.9</td>\n",
       "      <td>1.20</td>\n",
       "      <td>156.0</td>\n",
       "      <td>304.0</td>\n",
       "      <td>2014.0</td>\n",
       "    </tr>\n",
       "    <tr>\n",
       "      <th>88</th>\n",
       "      <td>2294</td>\n",
       "      <td>R KALLAI AT KALLAI BRIDGE</td>\n",
       "      <td>KERALA</td>\n",
       "      <td>26.3</td>\n",
       "      <td>3.7</td>\n",
       "      <td>7.7</td>\n",
       "      <td>32005.0</td>\n",
       "      <td>1.2</td>\n",
       "      <td>0.90</td>\n",
       "      <td>40000.0</td>\n",
       "      <td>60392.0</td>\n",
       "      <td>2014.0</td>\n",
       "    </tr>\n",
       "    <tr>\n",
       "      <th>108</th>\n",
       "      <td>2304</td>\n",
       "      <td>R MOGRAL AT MOGRAL BR.</td>\n",
       "      <td>KERALA</td>\n",
       "      <td>30.0</td>\n",
       "      <td>5.6</td>\n",
       "      <td>7.2</td>\n",
       "      <td>24360.0</td>\n",
       "      <td>2.1</td>\n",
       "      <td>0.30</td>\n",
       "      <td>92.0</td>\n",
       "      <td>447.0</td>\n",
       "      <td>2014.0</td>\n",
       "    </tr>\n",
       "    <tr>\n",
       "      <th>...</th>\n",
       "      <td>...</td>\n",
       "      <td>...</td>\n",
       "      <td>...</td>\n",
       "      <td>...</td>\n",
       "      <td>...</td>\n",
       "      <td>...</td>\n",
       "      <td>...</td>\n",
       "      <td>...</td>\n",
       "      <td>...</td>\n",
       "      <td>...</td>\n",
       "      <td>...</td>\n",
       "      <td>...</td>\n",
       "    </tr>\n",
       "    <tr>\n",
       "      <th>432</th>\n",
       "      <td>1023</td>\n",
       "      <td>GHAGGAR AT MUBARAKPUR REST HOUSE (PATIALA), PU...</td>\n",
       "      <td>PUNJAB</td>\n",
       "      <td>23.3</td>\n",
       "      <td>5.5</td>\n",
       "      <td>7.2</td>\n",
       "      <td>636.0</td>\n",
       "      <td>9.7</td>\n",
       "      <td>4.00</td>\n",
       "      <td>1328.0</td>\n",
       "      <td>4975.0</td>\n",
       "      <td>2013.0</td>\n",
       "    </tr>\n",
       "    <tr>\n",
       "      <th>685</th>\n",
       "      <td>1023</td>\n",
       "      <td>GHAGGAR AT MUBARAKPUR REST HOUSE (PATIALA)</td>\n",
       "      <td>PUNJAB</td>\n",
       "      <td>21.0</td>\n",
       "      <td>5.5</td>\n",
       "      <td>7.4</td>\n",
       "      <td>635.0</td>\n",
       "      <td>8.8</td>\n",
       "      <td>5.08</td>\n",
       "      <td>1400.0</td>\n",
       "      <td>5500.0</td>\n",
       "      <td>2012.0</td>\n",
       "    </tr>\n",
       "    <tr>\n",
       "      <th>172</th>\n",
       "      <td>3023</td>\n",
       "      <td>VASISTA AT SALEM, D/S OF SAGO INDUSRIES EFFLUE...</td>\n",
       "      <td>TAMILNADU</td>\n",
       "      <td>24.3</td>\n",
       "      <td>0.9</td>\n",
       "      <td>7.6</td>\n",
       "      <td>2039.0</td>\n",
       "      <td>104.5</td>\n",
       "      <td>0.90</td>\n",
       "      <td>272521616.0</td>\n",
       "      <td>511090873.0</td>\n",
       "      <td>2014.0</td>\n",
       "    </tr>\n",
       "    <tr>\n",
       "      <th>432</th>\n",
       "      <td>1023</td>\n",
       "      <td>GHAGGAR AT MUBARAKPUR REST HOUSE (PATIALA), PU...</td>\n",
       "      <td>PUNJAB</td>\n",
       "      <td>23.3</td>\n",
       "      <td>5.5</td>\n",
       "      <td>7.2</td>\n",
       "      <td>636.0</td>\n",
       "      <td>9.7</td>\n",
       "      <td>4.00</td>\n",
       "      <td>1328.0</td>\n",
       "      <td>4975.0</td>\n",
       "      <td>2013.0</td>\n",
       "    </tr>\n",
       "    <tr>\n",
       "      <th>685</th>\n",
       "      <td>1023</td>\n",
       "      <td>GHAGGAR AT MUBARAKPUR REST HOUSE (PATIALA)</td>\n",
       "      <td>PUNJAB</td>\n",
       "      <td>21.0</td>\n",
       "      <td>5.5</td>\n",
       "      <td>7.4</td>\n",
       "      <td>635.0</td>\n",
       "      <td>8.8</td>\n",
       "      <td>5.08</td>\n",
       "      <td>1400.0</td>\n",
       "      <td>5500.0</td>\n",
       "      <td>2012.0</td>\n",
       "    </tr>\n",
       "  </tbody>\n",
       "</table>\n",
       "<p>125 rows × 12 columns</p>\n",
       "</div>"
      ],
      "text/plain": [
       "    STATION CODE                                          LOCATIONS  \\\n",
       "741         2880                          NAMBUL RIVER AT BISHNUPUR   \n",
       "745         2856                 THOUBAL RIVER AT YAIRIPOK, THOUBAL   \n",
       "37          2671  KUNDALIKA RIVER NEAR SALAV BRIDGE (SALINA ZONE...   \n",
       "88          2294                          R KALLAI AT KALLAI BRIDGE   \n",
       "108         2304                             R MOGRAL AT MOGRAL BR.   \n",
       "..           ...                                                ...   \n",
       "432         1023  GHAGGAR AT MUBARAKPUR REST HOUSE (PATIALA), PU...   \n",
       "685         1023         GHAGGAR AT MUBARAKPUR REST HOUSE (PATIALA)   \n",
       "172         3023  VASISTA AT SALEM, D/S OF SAGO INDUSRIES EFFLUE...   \n",
       "432         1023  GHAGGAR AT MUBARAKPUR REST HOUSE (PATIALA), PU...   \n",
       "685         1023         GHAGGAR AT MUBARAKPUR REST HOUSE (PATIALA)   \n",
       "\n",
       "           STATE  Temp   DO   PH  Conductivity    BOD    NI      Fec_col  \\\n",
       "741      MANIPUR  28.0  8.2  7.6         112.0    2.1  0.52        233.0   \n",
       "745      MANIPUR  30.0  9.3  7.6         193.0    2.3  0.52        233.0   \n",
       "37   MAHARASHTRA  25.3  5.3  7.7       24062.0    9.9  1.20        156.0   \n",
       "88        KERALA  26.3  3.7  7.7       32005.0    1.2  0.90      40000.0   \n",
       "108       KERALA  30.0  5.6  7.2       24360.0    2.1  0.30         92.0   \n",
       "..           ...   ...  ...  ...           ...    ...   ...          ...   \n",
       "432       PUNJAB  23.3  5.5  7.2         636.0    9.7  4.00       1328.0   \n",
       "685       PUNJAB  21.0  5.5  7.4         635.0    8.8  5.08       1400.0   \n",
       "172    TAMILNADU  24.3  0.9  7.6        2039.0  104.5  0.90  272521616.0   \n",
       "432       PUNJAB  23.3  5.5  7.2         636.0    9.7  4.00       1328.0   \n",
       "685       PUNJAB  21.0  5.5  7.4         635.0    8.8  5.08       1400.0   \n",
       "\n",
       "         Tot_col    year  \n",
       "741         31.0  2012.0  \n",
       "745         41.0  2012.0  \n",
       "37         304.0  2014.0  \n",
       "88       60392.0  2014.0  \n",
       "108        447.0  2014.0  \n",
       "..           ...     ...  \n",
       "432       4975.0  2013.0  \n",
       "685       5500.0  2012.0  \n",
       "172  511090873.0  2014.0  \n",
       "432       4975.0  2013.0  \n",
       "685       5500.0  2012.0  \n",
       "\n",
       "[125 rows x 12 columns]"
      ]
     },
     "execution_count": 27,
     "metadata": {},
     "output_type": "execute_result"
    }
   ],
   "source": [
    "# Here, almost all kde plots are Gaussian Like \n",
    "# Using Z-Score Normalization to detect outliers\n",
    "\n",
    "df_num_final_norm = zscore(df_num_final, axis=0)\n",
    "\n",
    "\n",
    "def indices_of_greater_than_3(df_norm):\n",
    "    indices_arr = []\n",
    "    n_col = df_norm.shape[1]\n",
    "    for index in range(n_col):\n",
    "        col_index = df_norm.iloc[: ,index]\n",
    "        greater_than_3 = df_norm[col_index > 3]\n",
    "        greater_than_3_index = greater_than_3.index\n",
    "        indices_arr.extend(greater_than_3_index)\n",
    "    return indices_arr\n",
    "\n",
    "indices_arr = indices_of_greater_than_3(df_num_final_norm)\n",
    "print(\"Number of outliers using Z-Score method-\",len(indices_arr))\n",
    "df_final.iloc[indices_arr, :]"
   ]
  },
  {
   "cell_type": "code",
   "execution_count": 28,
   "metadata": {},
   "outputs": [
    {
     "data": {
      "text/plain": [
       "(1785, 12)"
      ]
     },
     "execution_count": 28,
     "metadata": {},
     "output_type": "execute_result"
    }
   ],
   "source": [
    "df_final.drop(indices_arr, axis=0, inplace=True)\n",
    "df_final.shape"
   ]
  }
 ],
 "metadata": {
  "kernelspec": {
   "display_name": "Python 3 (ipykernel)",
   "language": "python",
   "name": "python3"
  },
  "language_info": {
   "codemirror_mode": {
    "name": "ipython",
    "version": 3
   },
   "file_extension": ".py",
   "mimetype": "text/x-python",
   "name": "python",
   "nbconvert_exporter": "python",
   "pygments_lexer": "ipython3",
   "version": "3.9.12"
  }
 },
 "nbformat": 4,
 "nbformat_minor": 1
}
