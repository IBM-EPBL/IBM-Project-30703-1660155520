{
 "cells": [
  {
   "cell_type": "code",
   "execution_count": 17,
   "metadata": {},
   "outputs": [
    {
     "name": "stdout",
     "output_type": "stream",
     "text": [
      "['Hi', 'how', 'are', 'you']\n"
     ]
    }
   ],
   "source": [
    "#Split this string\n",
    "\n",
    "str=\"Hi how are you\"\n",
    "print(str.split())"
   ]
  },
  {
   "cell_type": "code",
   "execution_count": 18,
   "metadata": {},
   "outputs": [
    {
     "name": "stdout",
     "output_type": "stream",
     "text": [
      "The diameter of Earth is 12742 kilometers\n"
     ]
    }
   ],
   "source": [
    "#Use format() to print the following string bold text\n",
    "\n",
    "planet = \"Earth\"\n",
    "diameter = 12742\n",
    "a=\"The diameter of {planet} is {diameter} kilometers\"\n",
    "print(a.format(planet=\"Earth\",diameter = 12742))"
   ]
  },
  {
   "cell_type": "code",
   "execution_count": 14,
   "metadata": {},
   "outputs": [
    {
     "name": "stdout",
     "output_type": "stream",
     "text": [
      "{'k1': [1, 2, 3, {'tricky': ['oh', 'man', 'inception', {'target': [1, 2, 3, 'hello']}]}]}\n"
     ]
    }
   ],
   "source": [
    "#In this nest dictionary grab the word \"hello\"\n",
    "\n",
    "d = {'k1':[1,2,3,{'tricky':['oh','man','inception',{'target':[1,2,3,'hello']}]}]}\n",
    "print(d)"
   ]
  },
  {
   "cell_type": "code",
   "execution_count": 4,
   "metadata": {},
   "outputs": [
    {
     "name": "stdout",
     "output_type": "stream",
     "text": [
      "[0. 0. 0. 0. 0. 0. 0. 0. 0. 0.]\n"
     ]
    }
   ],
   "source": [
    "#NUMPY\n",
    "#Create an array of 10 zeros?\n",
    "\n",
    "import numpy as np\n",
    "b=np.zeros(10)*0\n",
    "print(b)"
   ]
  },
  {
   "cell_type": "code",
   "execution_count": 5,
   "metadata": {},
   "outputs": [
    {
     "name": "stdout",
     "output_type": "stream",
     "text": [
      "[5. 5. 5. 5. 5. 5. 5. 5. 5. 5.]\n"
     ]
    }
   ],
   "source": [
    "#NUMPY\n",
    "#Create an array of 10 fives\n",
    "\n",
    "b=np.ones(10)*5\n",
    "print(b)"
   ]
  },
  {
   "cell_type": "code",
   "execution_count": 6,
   "metadata": {},
   "outputs": [
    {
     "name": "stdout",
     "output_type": "stream",
     "text": [
      "[20 22 24 26 28 30 32 34]\n"
     ]
    }
   ],
   "source": [
    "#Create an array of 10 fives\n",
    "\n",
    "ar=np.arange(20,35,2)\n",
    "print(ar)"
   ]
  },
  {
   "cell_type": "code",
   "execution_count": 7,
   "metadata": {},
   "outputs": [
    {
     "name": "stdout",
     "output_type": "stream",
     "text": [
      "[[0 1 2]\n",
      " [3 4 5]\n",
      " [6 7 8]]\n"
     ]
    }
   ],
   "source": [
    "#Create a 3x3 matrix with values ranging from 0 to 8\n",
    "\n",
    "a=np.arange(0,9).reshape(3,3)\n",
    "print(a)"
   ]
  },
  {
   "cell_type": "code",
   "execution_count": 8,
   "metadata": {},
   "outputs": [
    {
     "name": "stdout",
     "output_type": "stream",
     "text": [
      "[1 2 3 4 5 6]\n"
     ]
    }
   ],
   "source": [
    "#Concatenate a and b\n",
    "\n",
    "arr1=np.array([1,2,3])\n",
    "arr2=np.array([4,5,6])\n",
    "arr=np.concatenate((arr1,arr2))\n",
    "print(arr)"
   ]
  },
  {
   "cell_type": "code",
   "execution_count": 9,
   "metadata": {},
   "outputs": [
    {
     "name": "stdout",
     "output_type": "stream",
     "text": [
      "    a   b\n",
      "0  12  45\n",
      "1  54  23\n",
      "2  94  76\n"
     ]
    }
   ],
   "source": [
    "#PANDAS\n",
    "#Create a dataframe with 3 rows and 2 columns\n",
    "\n",
    "import pandas as pd\n",
    "data=[{'a':12,'b':45},{'a':54,'b':23},{'a':94,'b':76}]\n",
    "df=pd.DataFrame(data)\n",
    "print(df)"
   ]
  },
  {
   "cell_type": "code",
   "execution_count": 15,
   "metadata": {},
   "outputs": [
    {
     "name": "stdout",
     "output_type": "stream",
     "text": [
      "DatetimeIndex(['2023-01-01', '2023-01-02', '2023-01-03', '2023-01-04',\n",
      "               '2023-01-05', '2023-01-06', '2023-01-07', '2023-01-08',\n",
      "               '2023-01-09', '2023-01-10',\n",
      "               ...\n",
      "               '2023-09-23', '2023-09-24', '2023-09-25', '2023-09-26',\n",
      "               '2023-09-27', '2023-09-28', '2023-09-29', '2023-09-30',\n",
      "               '2023-10-01', '2023-10-02'],\n",
      "              dtype='datetime64[ns]', length=275, freq='D')\n"
     ]
    }
   ],
   "source": [
    "#Generate the series of dates from 1st Jan, 2023 to 10th Feb, 2023\n",
    "\n",
    "a=pd.date_range(start='1/1/2023',end='10/2/2023')\n",
    "print(a)"
   ]
  },
  {
   "cell_type": "code",
   "execution_count": 13,
   "metadata": {},
   "outputs": [
    {
     "name": "stdout",
     "output_type": "stream",
     "text": [
      "   0       1     2\n",
      "0  1     aaa  22.0\n",
      "1  2  bbb,25   NaN\n",
      "2  3     ccc  24.0\n"
     ]
    }
   ],
   "source": [
    "#Create 2D list to DataFrame\n",
    "\n",
    "lst=[[1,'aaa',22],[2,'bbb,25'],[3,'ccc',24]]\n",
    "df=pd.DataFrame(lst)\n",
    "print(df)"
   ]
  }
 ],
 "metadata": {
  "kernelspec": {
   "display_name": "Python 3",
   "language": "python",
   "name": "python3"
  },
  "language_info": {
   "codemirror_mode": {
    "name": "ipython",
    "version": 3
   },
   "file_extension": ".py",
   "mimetype": "text/x-python",
   "name": "python",
   "nbconvert_exporter": "python",
   "pygments_lexer": "ipython3",
   "version": "3.8.5"
  }
 },
 "nbformat": 4,
 "nbformat_minor": 4
}
